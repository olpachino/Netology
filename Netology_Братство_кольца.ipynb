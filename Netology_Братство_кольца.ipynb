{
  "nbformat": 4,
  "nbformat_minor": 0,
  "metadata": {
    "colab": {
      "name": "Netology-Братство кольца.ipynb",
      "provenance": [],
      "collapsed_sections": [],
      "authorship_tag": "ABX9TyN3V4k08HO7tiWmx8nbiV13",
      "include_colab_link": true
    },
    "kernelspec": {
      "name": "python3",
      "display_name": "Python 3"
    }
  },
  "cells": [
    {
      "cell_type": "markdown",
      "metadata": {
        "id": "view-in-github",
        "colab_type": "text"
      },
      "source": [
        "<a href=\"https://colab.research.google.com/github/olpachino/Netology/blob/master/Netology_%D0%91%D1%80%D0%B0%D1%82%D1%81%D1%82%D0%B2%D0%BE_%D0%BA%D0%BE%D0%BB%D1%8C%D1%86%D0%B0.ipynb\" target=\"_parent\"><img src=\"https://colab.research.google.com/assets/colab-badge.svg\" alt=\"Open In Colab\"/></a>"
      ]
    },
    {
      "cell_type": "code",
      "metadata": {
        "id": "I4PHxbpc8h15",
        "colab_type": "code",
        "colab": {}
      },
      "source": [
        "name = 'Sam'\n",
        "race = 'хоббит'\n",
        "gender = 'мужчина'\n",
        "strength = 5"
      ],
      "execution_count": 0,
      "outputs": []
    },
    {
      "cell_type": "code",
      "metadata": {
        "id": "8JrjYndRjWhG",
        "colab_type": "code",
        "colab": {
          "base_uri": "https://localhost:8080/",
          "height": 34
        },
        "outputId": "10721b74-12aa-400b-9a84-aa99b1d64f3a"
      },
      "source": [
        "print('В поход с Frodo отправился', name, race, gender, 'с силой', strength)"
      ],
      "execution_count": 4,
      "outputs": [
        {
          "output_type": "stream",
          "text": [
            "В поход с Frodo отправился Aragorn человек мужчина с силой 5\n"
          ],
          "name": "stdout"
        }
      ]
    },
    {
      "cell_type": "code",
      "metadata": {
        "id": "mwRpWPR9jxeT",
        "colab_type": "code",
        "colab": {
          "base_uri": "https://localhost:8080/",
          "height": 34
        },
        "outputId": "590521a1-f1b2-48dc-9557-a2bd0810bb95"
      },
      "source": [
        "if gender == 'мужчина':\n",
        "  print('Наш герой - мужчина')"
      ],
      "execution_count": 5,
      "outputs": [
        {
          "output_type": "stream",
          "text": [
            "Наш герой - мужчина\n"
          ],
          "name": "stdout"
        }
      ]
    },
    {
      "cell_type": "code",
      "metadata": {
        "id": "5LAq-0SolFX6",
        "colab_type": "code",
        "colab": {
          "base_uri": "https://localhost:8080/",
          "height": 34
        },
        "outputId": "e7a12c6b-9bad-451e-9f05-dd663545b95a"
      },
      "source": [
        "if gender == 'мужчина':\n",
        "  print('В поход с Frodo отправился', name, race, gender, 'с силой', strength)\n",
        "else:\n",
        "  print('В поход с Frodo отправилась', name, race, gender, 'с силой', strength)"
      ],
      "execution_count": 6,
      "outputs": [
        {
          "output_type": "stream",
          "text": [
            "В поход с Frodo отправился Aragorn человек мужчина с силой 5\n"
          ],
          "name": "stdout"
        }
      ]
    },
    {
      "cell_type": "code",
      "metadata": {
        "id": "twjCw1_AmIm_",
        "colab_type": "code",
        "colab": {
          "base_uri": "https://localhost:8080/",
          "height": 34
        },
        "outputId": "2ff6e053-6b57-4131-ba9c-edb7e920daec"
      },
      "source": [
        "if name == 'Sam' and race == 'хоббит':\n",
        "  print('Поход завершится успешно')\n",
        "elif race == 'хоббит':\n",
        "  print('Возможно завершится успешно')\n",
        "else:\n",
        "  print('Поход завершится не успешно')"
      ],
      "execution_count": 10,
      "outputs": [
        {
          "output_type": "stream",
          "text": [
            "Поход завершится успешно\n"
          ],
          "name": "stdout"
        }
      ]
    },
    {
      "cell_type": "code",
      "metadata": {
        "id": "re9gTUSvnTQg",
        "colab_type": "code",
        "colab": {}
      },
      "source": [
        "def check_success(name, race, gender, strength):\n",
        "  if name == 'Sam' and race == 'хоббит':\n",
        "    print('Поход завершится успешно')\n",
        "  elif race == 'хоббит':\n",
        "    print('Возможно завершится успешно')\n",
        "  else:\n",
        "    print('Поход завершится не успешно')"
      ],
      "execution_count": 0,
      "outputs": []
    },
    {
      "cell_type": "code",
      "metadata": {
        "id": "sh5LZDEun4yO",
        "colab_type": "code",
        "colab": {
          "base_uri": "https://localhost:8080/",
          "height": 34
        },
        "outputId": "ed549b24-70ae-4bb2-8506-8065a200a29a"
      },
      "source": [
        "check_success('Sam', 'хоббит', 'мужчина', 5)"
      ],
      "execution_count": 12,
      "outputs": [
        {
          "output_type": "stream",
          "text": [
            "Поход завершится успешно\n"
          ],
          "name": "stdout"
        }
      ]
    },
    {
      "cell_type": "code",
      "metadata": {
        "id": "F4VNXRs1oMdy",
        "colab_type": "code",
        "colab": {
          "base_uri": "https://localhost:8080/",
          "height": 34
        },
        "outputId": "b38173a2-e96b-42a9-9651-9f7bbc38e269"
      },
      "source": [
        "check_success('Aragorn', 'человек', 'мужчина', 7)"
      ],
      "execution_count": 13,
      "outputs": [
        {
          "output_type": "stream",
          "text": [
            "Поход завершится не успешно\n"
          ],
          "name": "stdout"
        }
      ]
    },
    {
      "cell_type": "code",
      "metadata": {
        "id": "cj-aSgtIoxkB",
        "colab_type": "code",
        "colab": {}
      },
      "source": [
        "def check_win(race, gender, strength):\n",
        "  if strength > 5:\n",
        "    if gender == 'мужчина':\n",
        "      print('Миссия завершится успешно')\n",
        "    elif gender == 'женщина':\n",
        "      if race == 'эльф':\n",
        "        print('Миссия возможно завершится успешно')\n",
        "      else:\n",
        "        print('Миссия завершится провалом')\n",
        "    else:\n",
        "      print('Миссия завершится провалом')\n",
        "  else:\n",
        "    print('Миссия завершится провалом')"
      ],
      "execution_count": 0,
      "outputs": []
    },
    {
      "cell_type": "code",
      "metadata": {
        "id": "HsOYf0udrdcx",
        "colab_type": "code",
        "colab": {
          "base_uri": "https://localhost:8080/",
          "height": 34
        },
        "outputId": "58ce76fc-3e32-49cd-fb00-7cbcfef99cf3"
      },
      "source": [
        "check_win('хоббит', 'мужчина', 7)"
      ],
      "execution_count": 15,
      "outputs": [
        {
          "output_type": "stream",
          "text": [
            "Миссия завершится успешно\n"
          ],
          "name": "stdout"
        }
      ]
    },
    {
      "cell_type": "code",
      "metadata": {
        "id": "UjtIVQMvrqTA",
        "colab_type": "code",
        "colab": {
          "base_uri": "https://localhost:8080/",
          "height": 34
        },
        "outputId": "7c042fad-83e5-4dbd-c5ef-a561add7c12a"
      },
      "source": [
        "check_win('хоббит', 'женщина', 7)"
      ],
      "execution_count": 19,
      "outputs": [
        {
          "output_type": "stream",
          "text": [
            "Миссия завершится провалом\n"
          ],
          "name": "stdout"
        }
      ]
    },
    {
      "cell_type": "code",
      "metadata": {
        "id": "k_8sb4qur-6n",
        "colab_type": "code",
        "colab": {
          "base_uri": "https://localhost:8080/",
          "height": 34
        },
        "outputId": "3caccd16-2e5e-458d-86c6-545baa51c34c"
      },
      "source": [
        "check_win('эльф', 'мужчина', 5)"
      ],
      "execution_count": 21,
      "outputs": [
        {
          "output_type": "stream",
          "text": [
            "Миссия завершится провалом\n"
          ],
          "name": "stdout"
        }
      ]
    }
  ]
}