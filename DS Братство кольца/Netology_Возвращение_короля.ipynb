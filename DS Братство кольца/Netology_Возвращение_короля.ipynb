{
  "nbformat": 4,
  "nbformat_minor": 0,
  "metadata": {
    "colab": {
      "name": "Netology-Возвращение короля.ipynb",
      "provenance": [],
      "collapsed_sections": [],
      "authorship_tag": "ABX9TyOke958/ZNChQ74cRqlODn9",
      "include_colab_link": true
    },
    "kernelspec": {
      "name": "python3",
      "display_name": "Python 3"
    }
  },
  "cells": [
    {
      "cell_type": "markdown",
      "metadata": {
        "id": "view-in-github",
        "colab_type": "text"
      },
      "source": [
        "<a href=\"https://colab.research.google.com/github/olpachino/Netology/blob/master/Netology_%D0%92%D0%BE%D0%B7%D0%B2%D1%80%D0%B0%D1%89%D0%B5%D0%BD%D0%B8%D0%B5_%D0%BA%D0%BE%D1%80%D0%BE%D0%BB%D1%8F.ipynb\" target=\"_parent\"><img src=\"https://colab.research.google.com/assets/colab-badge.svg\" alt=\"Open In Colab\"/></a>"
      ]
    },
    {
      "cell_type": "code",
      "metadata": {
        "id": "TS8sX6h9EAul",
        "colab_type": "code",
        "colab": {
          "base_uri": "https://localhost:8080/",
          "height": 51
        },
        "outputId": "4c4aa817-7f46-4bee-85d9-0de6b489d08f"
      },
      "source": [
        "!pip install networkx"
      ],
      "execution_count": 1,
      "outputs": [
        {
          "output_type": "stream",
          "text": [
            "Requirement already satisfied: networkx in /usr/local/lib/python3.6/dist-packages (2.4)\n",
            "Requirement already satisfied: decorator>=4.3.0 in /usr/local/lib/python3.6/dist-packages (from networkx) (4.4.2)\n"
          ],
          "name": "stdout"
        }
      ]
    },
    {
      "cell_type": "code",
      "metadata": {
        "id": "h_Edi0PoGznB",
        "colab_type": "code",
        "colab": {}
      },
      "source": [
        "import networkx as nx"
      ],
      "execution_count": 0,
      "outputs": []
    },
    {
      "cell_type": "code",
      "metadata": {
        "id": "cu8t8wdUJAI3",
        "colab_type": "code",
        "colab": {}
      },
      "source": [
        "g = nx.Graph()"
      ],
      "execution_count": 0,
      "outputs": []
    },
    {
      "cell_type": "code",
      "metadata": {
        "id": "XTIQgbd5JLsM",
        "colab_type": "code",
        "colab": {
          "base_uri": "https://localhost:8080/",
          "height": 319
        },
        "outputId": "3ec48769-0dc9-4829-ab95-883426d01f4d"
      },
      "source": [
        "g.add_node('Шир')\n",
        "g.add_node('Мордор')\n",
        "nx.draw(g, with_labels=True)"
      ],
      "execution_count": 8,
      "outputs": [
        {
          "output_type": "display_data",
          "data": {
            "image/png": "[encoded data removed]",
            "text/plain": [
              "<Figure size 432x288 with 1 Axes>"
            ]
          },
          "metadata": {
            "tags": []
          }
        }
      ]
    },
    {
      "cell_type": "code",
      "metadata": {
        "id": "9gDNBLbiG-PM",
        "colab_type": "code",
        "colab": {
          "base_uri": "https://localhost:8080/",
          "height": 319
        },
        "outputId": "def4534a-90e7-4794-98e5-48401d7232c4"
      },
      "source": [
        "g.add_edge('Шир', 'Мордор')\n",
        "nx.draw(g, with_labels=True)"
      ],
      "execution_count": 9,
      "outputs": [
        {
          "output_type": "display_data",
          "data": {
            "image/png": "[encoded data removed]",
            "text/plain": [
              "<Figure size 432x288 with 1 Axes>"
            ]
          },
          "metadata": {
            "tags": []
          }
        }
      ]
    },
    {
      "cell_type": "code",
      "metadata": {
        "id": "BeD6QfyFJaFL",
        "colab_type": "code",
        "colab": {}
      },
      "source": [
        "g.remove_edge('Шир', 'Мордор')"
      ],
      "execution_count": 0,
      "outputs": []
    },
    {
      "cell_type": "code",
      "metadata": {
        "id": "W0-eYpTIKHCV",
        "colab_type": "code",
        "colab": {}
      },
      "source": [
        "g.add_node('Предгорье')\n",
        "g.add_node('Ривенделл')\n",
        "g.add_node('Мория')\n",
        "g.add_node('Лотрием')\n",
        "g.add_node('Черные врата')\n",
        "g.add_node('Роковая гора')"
      ],
      "execution_count": 0,
      "outputs": []
    },
    {
      "cell_type": "code",
      "metadata": {
        "id": "ls3EOAG0KkNH",
        "colab_type": "code",
        "colab": {
          "base_uri": "https://localhost:8080/",
          "height": 319
        },
        "outputId": "917c984b-3532-4a33-c5f0-f41fd1dcc601"
      },
      "source": [
        "nx.draw(g, with_labels=True)"
      ],
      "execution_count": 12,
      "outputs": [
        {
          "output_type": "display_data",
          "data": {
            "image/png": "[encoded data removed]",
            "text/plain": [
              "<Figure size 432x288 with 1 Axes>"
            ]
          },
          "metadata": {
            "tags": []
          }
        }
      ]
    },
    {
      "cell_type": "code",
      "metadata": {
        "id": "zBI4bfoyKtNT",
        "colab_type": "code",
        "colab": {}
      },
      "source": [
        "g.add_edge('Шир', 'Предгорье')\n",
        "g.add_edge('Предгорье', 'Ривенделл')\n",
        "g.add_edge('Ривенделл', 'Мория')\n",
        "g.add_edge('Мория', 'Лотрием')\n",
        "g.add_edge('Лотрием', 'Черные врата')\n",
        "g.add_edge('Черные врата', 'Мордор')\n",
        "g.add_edge('Мордор', 'Роковая гора')"
      ],
      "execution_count": 0,
      "outputs": []
    },
    {
      "cell_type": "code",
      "metadata": {
        "id": "KvbCHiFsLe30",
        "colab_type": "code",
        "colab": {
          "base_uri": "https://localhost:8080/",
          "height": 319
        },
        "outputId": "f6ec6eb6-77c2-4f8b-e731-f557d411ceed"
      },
      "source": [
        "nx.draw(g, with_labels=True)"
      ],
      "execution_count": 14,
      "outputs": [
        {
          "output_type": "display_data",
          "data": {
            "image/png": "[encoded data removed]",
            "text/plain": [
              "<Figure size 432x288 with 1 Axes>"
            ]
          },
          "metadata": {
            "tags": []
          }
        }
      ]
    },
    {
      "cell_type": "code",
      "metadata": {
        "id": "RrF0e9wqLy35",
        "colab_type": "code",
        "colab": {
          "base_uri": "https://localhost:8080/",
          "height": 153
        },
        "outputId": "3ab6efb3-c3c5-4175-faa8-1779578f5c69"
      },
      "source": [
        "nx.shortest_path(g, 'Шир', 'Роковая гора')"
      ],
      "execution_count": 15,
      "outputs": [
        {
          "output_type": "execute_result",
          "data": {
            "text/plain": [
              "['Шир',\n",
              " 'Предгорье',\n",
              " 'Ривенделл',\n",
              " 'Мория',\n",
              " 'Лотрием',\n",
              " 'Черные врата',\n",
              " 'Мордор',\n",
              " 'Роковая гора']"
            ]
          },
          "metadata": {
            "tags": []
          },
          "execution_count": 15
        }
      ]
    },
    {
      "cell_type": "code",
      "metadata": {
        "id": "Ol1CNLgRL-ys",
        "colab_type": "code",
        "colab": {}
      },
      "source": [
        "g.add_node('Изенгард')\n",
        "g.add_edge('Ривенделл', 'Изенгард')\n",
        "g.add_edge('Изенгард', 'Черные врата')"
      ],
      "execution_count": 0,
      "outputs": []
    },
    {
      "cell_type": "code",
      "metadata": {
        "id": "JgpvNb4FMh1k",
        "colab_type": "code",
        "colab": {
          "base_uri": "https://localhost:8080/",
          "height": 319
        },
        "outputId": "afb1aeeb-5986-4a25-e838-0405f5b3b8dd"
      },
      "source": [
        "nx.draw(g, with_labels=True)"
      ],
      "execution_count": 17,
      "outputs": [
        {
          "output_type": "display_data",
          "data": {
            "image/png": "[encoded data removed]",
            "text/plain": [
              "<Figure size 432x288 with 1 Axes>"
            ]
          },
          "metadata": {
            "tags": []
          }
        }
      ]
    },
    {
      "cell_type": "code",
      "metadata": {
        "id": "gq62FnzYMnfm",
        "colab_type": "code",
        "colab": {
          "base_uri": "https://localhost:8080/",
          "height": 136
        },
        "outputId": "d7bf379e-c57e-4fea-b57c-999c61d51e64"
      },
      "source": [
        "nx.shortest_path(g, 'Шир', 'Роковая гора')"
      ],
      "execution_count": 18,
      "outputs": [
        {
          "output_type": "execute_result",
          "data": {
            "text/plain": [
              "['Шир',\n",
              " 'Предгорье',\n",
              " 'Ривенделл',\n",
              " 'Изенгард',\n",
              " 'Черные врата',\n",
              " 'Мордор',\n",
              " 'Роковая гора']"
            ]
          },
          "metadata": {
            "tags": []
          },
          "execution_count": 18
        }
      ]
    },
    {
      "cell_type": "code",
      "metadata": {
        "id": "KaZdc2xWMvJ9",
        "colab_type": "code",
        "colab": {}
      },
      "source": [
        "w = nx.Graph()"
      ],
      "execution_count": 0,
      "outputs": []
    },
    {
      "cell_type": "code",
      "metadata": {
        "id": "k84ppTHMNm9W",
        "colab_type": "code",
        "colab": {}
      },
      "source": [
        "w.add_node('Предгорье')\n",
        "w.add_node('Ривенделл')\n",
        "w.add_node('Мория')\n",
        "w.add_node('Лотрием')\n",
        "w.add_node('Черные врата')\n",
        "w.add_node('Роковая гора')\n",
        "w.add_node('Шир')\n",
        "w.add_node('Мордор')\n",
        "w.add_node('Рохан')\n",
        "w.add_node('Гондар')\n",
        "w.add_node('Минас-Тирит')\n",
        "w.add_node('Хельмова падь')\n",
        "w.add_node('Изенгард')"
      ],
      "execution_count": 0,
      "outputs": []
    },
    {
      "cell_type": "code",
      "metadata": {
        "id": "rV5RXYfvN73F",
        "colab_type": "code",
        "colab": {}
      },
      "source": [
        "w.add_edge('Шир', 'Предгорье', weight=1)\n",
        "w.add_edge('Предгорье', 'Ривенделл', weight=2)\n",
        "w.add_edge('Ривенделл', 'Мория', weight=1)\n",
        "w.add_edge('Мория', 'Лотрием', weight=1)\n",
        "w.add_edge('Лотрием', 'Черные врата', weight=3)\n",
        "w.add_edge('Черные врата', 'Мордор', weight=1)\n",
        "w.add_edge('Мордор', 'Роковая гора', weight=2)\n",
        "w.add_edge('Ривенделл', 'Изенгард', weight=1)\n",
        "w.add_edge('Изенгард', 'Черные врата', weight=3)"
      ],
      "execution_count": 0,
      "outputs": []
    },
    {
      "cell_type": "code",
      "metadata": {
        "id": "x385n3oZQfgN",
        "colab_type": "code",
        "colab": {}
      },
      "source": [
        "w.add_edge('Лотрием', 'Рохан', weight=2)\n",
        "w.add_edge('Рохан', 'Хельмова падь', weight=1)\n",
        "w.add_edge('Хельмова падь', 'Гондар', weight=2)\n",
        "w.add_edge('Гондар', 'Минас-Тирит', weight=1)\n",
        "w.add_edge('Гондар', 'Черные врата', weight=1)\n",
        "w.add_edge('Минас-Тирит', 'Черные врата', weight=1)"
      ],
      "execution_count": 0,
      "outputs": []
    },
    {
      "cell_type": "code",
      "metadata": {
        "id": "y-Dzo86ZRdgX",
        "colab_type": "code",
        "colab": {
          "base_uri": "https://localhost:8080/",
          "height": 319
        },
        "outputId": "16c0dd82-2a9a-4d55-8db9-67aab0d08018"
      },
      "source": [
        "nx.draw(w, with_labels=True)"
      ],
      "execution_count": 40,
      "outputs": [
        {
          "output_type": "display_data",
          "data": {
            "image/png": "[encoded data removed]",
            "text/plain": [
              "<Figure size 432x288 with 1 Axes>"
            ]
          },
          "metadata": {
            "tags": []
          }
        }
      ]
    },
    {
      "cell_type": "code",
      "metadata": {
        "id": "NI8uAa_qS8fw",
        "colab_type": "code",
        "colab": {
          "base_uri": "https://localhost:8080/",
          "height": 136
        },
        "outputId": "b8d3203c-84ae-44b1-ed28-7fe95f0ea65d"
      },
      "source": [
        "nx.shortest_path(w, 'Шир', 'Роковая гора')"
      ],
      "execution_count": 41,
      "outputs": [
        {
          "output_type": "execute_result",
          "data": {
            "text/plain": [
              "['Шир',\n",
              " 'Предгорье',\n",
              " 'Ривенделл',\n",
              " 'Изенгард',\n",
              " 'Черные врата',\n",
              " 'Мордор',\n",
              " 'Роковая гора']"
            ]
          },
          "metadata": {
            "tags": []
          },
          "execution_count": 41
        }
      ]
    },
    {
      "cell_type": "code",
      "metadata": {
        "id": "P5YPubwUTNly",
        "colab_type": "code",
        "colab": {
          "base_uri": "https://localhost:8080/",
          "height": 136
        },
        "outputId": "d51f334f-5181-473e-80be-937a87df8a5f"
      },
      "source": [
        "nx.algorithms.shortest_paths.weighted.dijkstra_path(w, 'Шир', 'Роковая гора', weight='weight')"
      ],
      "execution_count": 42,
      "outputs": [
        {
          "output_type": "execute_result",
          "data": {
            "text/plain": [
              "['Шир',\n",
              " 'Предгорье',\n",
              " 'Ривенделл',\n",
              " 'Изенгард',\n",
              " 'Черные врата',\n",
              " 'Мордор',\n",
              " 'Роковая гора']"
            ]
          },
          "metadata": {
            "tags": []
          },
          "execution_count": 42
        }
      ]
    },
    {
      "cell_type": "code",
      "metadata": {
        "id": "pWX5J4xLTmLD",
        "colab_type": "code",
        "colab": {
          "base_uri": "https://localhost:8080/",
          "height": 34
        },
        "outputId": "3a811e45-9fdb-484c-c625-b26ca5f0ba26"
      },
      "source": [
        "nx.algorithms.shortest_paths.weighted.dijkstra_path_length(w, 'Шир', 'Роковая гора', weight='weight')"
      ],
      "execution_count": 43,
      "outputs": [
        {
          "output_type": "execute_result",
          "data": {
            "text/plain": [
              "10"
            ]
          },
          "metadata": {
            "tags": []
          },
          "execution_count": 43
        }
      ]
    },
    {
      "cell_type": "code",
      "metadata": {
        "id": "K5tJ6AOtT5hT",
        "colab_type": "code",
        "colab": {}
      },
      "source": [
        "w.remove_edge('Ривенделл', 'Изенгард')"
      ],
      "execution_count": 0,
      "outputs": []
    },
    {
      "cell_type": "code",
      "metadata": {
        "id": "GoAzYYwUUeUb",
        "colab_type": "code",
        "colab": {}
      },
      "source": [
        "w.add_edge('Ривенделл', 'Изенгард', weight=5)"
      ],
      "execution_count": 0,
      "outputs": []
    },
    {
      "cell_type": "code",
      "metadata": {
        "id": "qjtoiH4AUnAD",
        "colab_type": "code",
        "colab": {
          "base_uri": "https://localhost:8080/",
          "height": 153
        },
        "outputId": "bec642f9-fcb6-47e4-d39e-99800ea80ca6"
      },
      "source": [
        "nx.algorithms.shortest_paths.weighted.dijkstra_path(w, 'Шир', 'Роковая гора', weight='weight')"
      ],
      "execution_count": 46,
      "outputs": [
        {
          "output_type": "execute_result",
          "data": {
            "text/plain": [
              "['Шир',\n",
              " 'Предгорье',\n",
              " 'Ривенделл',\n",
              " 'Мория',\n",
              " 'Лотрием',\n",
              " 'Черные врата',\n",
              " 'Мордор',\n",
              " 'Роковая гора']"
            ]
          },
          "metadata": {
            "tags": []
          },
          "execution_count": 46
        }
      ]
    },
    {
      "cell_type": "code",
      "metadata": {
        "id": "teDh3KrMUru8",
        "colab_type": "code",
        "colab": {
          "base_uri": "https://localhost:8080/",
          "height": 34
        },
        "outputId": "ff55de41-a721-4bb4-ebaa-2beb2b081178"
      },
      "source": [
        "nx.algorithms.shortest_paths.weighted.dijkstra_path_length(w, 'Шир', 'Роковая гора', weight='weight')"
      ],
      "execution_count": 47,
      "outputs": [
        {
          "output_type": "execute_result",
          "data": {
            "text/plain": [
              "11"
            ]
          },
          "metadata": {
            "tags": []
          },
          "execution_count": 47
        }
      ]
    }
  ]
}